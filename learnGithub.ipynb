{
 "cells": [
  {
   "cell_type": "code",
   "execution_count": null,
   "id": "8d770f05",
   "metadata": {},
   "outputs": [],
   "source": [
    "# random text blah blah!\n",
    "#Thebe"
   ]
  }
 ],
 "metadata": {
  "language_info": {
   "name": "python"
  }
 },
 "nbformat": 4,
 "nbformat_minor": 5
}
